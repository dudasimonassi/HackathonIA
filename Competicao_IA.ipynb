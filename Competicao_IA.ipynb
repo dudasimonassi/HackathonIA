{
  "nbformat": 4,
  "nbformat_minor": 0,
  "metadata": {
    "colab": {
      "provenance": [],
      "include_colab_link": true
    },
    "kernelspec": {
      "name": "python3",
      "display_name": "Python 3"
    },
    "language_info": {
      "name": "python"
    }
  },
  "cells": [
    {
      "cell_type": "markdown",
      "metadata": {
        "id": "view-in-github",
        "colab_type": "text"
      },
      "source": [
        "<a href=\"https://colab.research.google.com/github/dudasimonassi/HackathonIA/blob/main/Competicao_IA.ipynb\" target=\"_parent\"><img src=\"https://colab.research.google.com/assets/colab-badge.svg\" alt=\"Open In Colab\"/></a>"
      ]
    },
    {
      "cell_type": "markdown",
      "source": [
        "# Competição de IA: Desafio de Previsão de Preços de Imóveis\n",
        "\n",
        "Etapas para compilação correta do código:\n",
        "1.   Realizar o download da base de dados e colocar no Drive;\n",
        "2.   Mudar o caminho no código para a leitura do arquivo.\n",
        "\n",
        "Dicas e boas estratégias para se ter uma boa previsão:\n",
        "1.   Implementar outras etapas de pré-processamento (outliers, normalização, etc);\n",
        "2.   Observar o comportamento dos dados;\n",
        "3.   Utilizar outros modelos de regressão;\n",
        "4.   Usar um otimizador de hyperparâmetros;\n",
        "5.   Analizar as diferenças entre os valores reais e previstos;\n",
        "\n",
        "\n",
        "**Fazer a submissão no formulário antes do prazo de encerramento.**\n",
        "\n",
        "Links:\n",
        "*   Regulamento: https://drive.google.com/file/d/1MA2KaBSQTOh0HMG8yMneW2Qdw0wlMxxC/view?usp=share_link\n",
        "*   Base de Dados: https://docs.google.com/spreadsheets/d/140EhqT7kTrRhys20-bBeA2nXZtx2JVki/edit?usp=share_link&ouid=103873027701310997143&rtpof=true&sd=true\n",
        "*   Formulário: https://forms.gle/ASLn711xNrZtzfDv7\n",
        "\n"
      ],
      "metadata": {
        "id": "ZgFqXqZB8SfQ"
      }
    },
    {
      "cell_type": "markdown",
      "source": [
        "## Bibliotecas\n",
        "\n",
        "**OBS:** Essas são bibliotecas recomendadas, não sendo obrigatória a sua utilização. O uso de bibliotecas adicionais é permitido."
      ],
      "metadata": {
        "id": "eqcFRQbe_HzT"
      }
    },
    {
      "cell_type": "code",
      "source": [
        "# Processamento de matrizes e funções matemáticas\n",
        "import numpy as np\n",
        "# Manipulação e análise de dados\n",
        "import pandas as pd\n",
        "# Plotagem de gráficos\n",
        "import matplotlib.pyplot as plt\n",
        "# Distribuição de dados para o treino e teste\n",
        "from sklearn.model_selection import train_test_split\n",
        "# Métricas\n",
        "from sklearn.metrics import r2_score, mean_squared_error, mean_absolute_percentage_error\n",
        "\n",
        "# Funções matemáticas\n",
        "import math\n",
        "import random\n",
        "\n",
        "from sklearn.preprocessing import StandardScaler\n",
        "from sklearn.preprocessing import MinMaxScaler\n",
        "\n",
        "# Modelling\n",
        "from sklearn.ensemble import RandomForestClassifier\n",
        "from sklearn.neighbors import KNeighborsRegressor"
      ],
      "metadata": {
        "id": "B7qLvLrZ_MZG"
      },
      "execution_count": null,
      "outputs": []
    },
    {
      "cell_type": "code",
      "source": [
        "# Modelos (apenas como ilustração)\n",
        "from sklearn.linear_model import LinearRegression"
      ],
      "metadata": {
        "id": "3KR4lFlES0dW"
      },
      "execution_count": null,
      "outputs": []
    },
    {
      "cell_type": "code",
      "source": [
        "# Localização para o Teste Online\n",
        "from geopy.geocoders import Nominatim"
      ],
      "metadata": {
        "id": "lAd8T35hGJMi"
      },
      "execution_count": null,
      "outputs": []
    },
    {
      "cell_type": "markdown",
      "source": [
        "## Dados\n",
        "\n",
        "**OBS:** Apenas são permitidas modificações na base de dados utilizando linhas de código."
      ],
      "metadata": {
        "id": "M3ViUJvbDOhe"
      }
    },
    {
      "cell_type": "markdown",
      "source": [
        "### Importação da Base de dados"
      ],
      "metadata": {
        "id": "9YLeozIv831y"
      }
    },
    {
      "cell_type": "code",
      "source": [
        "# Executando a célula para montar o Drive\n",
        "from google.colab import drive\n",
        "drive.mount('/content/drive')"
      ],
      "metadata": {
        "id": "9gxVnpSCAW1e"
      },
      "execution_count": null,
      "outputs": []
    },
    {
      "cell_type": "markdown",
      "source": [
        "**MUDAR O CAMINHO DO ARQUIVO**"
      ],
      "metadata": {
        "id": "Ya3jiq_JeTar"
      }
    },
    {
      "cell_type": "code",
      "source": [
        "df = pd.read_excel('/content/drive/MyDrive/Competicao_IA_Dados.xlsx')\n",
        "df"
      ],
      "metadata": {
        "id": "6XvGB9cL-wqw"
      },
      "execution_count": null,
      "outputs": []
    },
    {
      "cell_type": "markdown",
      "source": [
        "### Tratamento\n",
        "\n",
        "**OBS:** Essas são etapas de facilitação para a realização dos códigos"
      ],
      "metadata": {
        "id": "9O-tn4z8DJvq"
      }
    },
    {
      "cell_type": "code",
      "source": [
        "# Corrigindo os nomes para 'Galpão' e 'Salão' corretamente\n",
        "df['Tipo'] = df['Tipo'].replace({'Ã£': 'ã'}, regex=True)\n",
        "# Corrigindo o nome para 'Prédio' corretamente\n",
        "df['Tipo'] = df['Tipo'].replace({'Ã©': 'é'}, regex=True)\n",
        "# Corrigindo o nome para 'Área' corretamente\n",
        "df['Tipo'] = df['Tipo'].replace({'Ã_x0081_': 'Á'}, regex=True)\n",
        "# Retirando as colunas que não são usadas\n",
        "df = df.drop(['ID', 'Cidade', 'Bairro'], axis= 1)\n",
        "# Retirando os Tipos de Imóveis não utilizados\n",
        "df = df.drop(df[df['Tipo'].isin(['Salão', 'Terreno', 'Prédio', 'Sobrado', 'Flat', 'Ponto', 'Área', 'Laje'])].index)\n",
        "# Retirando os dados desnecessários\n",
        "df.drop(df.columns[df.columns.str.contains('unnamed',case = False)],axis = 1, inplace = True)\n",
        "\n",
        "# Transformando os dados de preços em 'float'\n",
        "money_col = df[['Preço', 'Condomínio', 'IPTU']]\n",
        "for col in money_col:\n",
        "    df[col] = df[col].astype(str).apply(lambda x: x.replace('.',''))\n",
        "    df[col] = df[col].replace({'R\\$ ': '', ',': '.'}, regex=True).astype('float64')\n",
        "\n",
        "# Transformando os dados 'float' em 'int'\n",
        "int_col = df[['Quartos', 'Banheiros', 'Vagas']]\n",
        "for col in int_col:\n",
        "    df[col] = df[col].astype(int)\n",
        "df = df.reset_index()\n",
        "df = df.drop(['index'], axis= 1)"
      ],
      "metadata": {
        "id": "7jnE_slICzeE"
      },
      "execution_count": null,
      "outputs": []
    },
    {
      "cell_type": "code",
      "source": [
        "lista = df.duplicated()\n",
        "\n",
        "for index, row in df.iterrows():\n",
        "    if(lista[index] == True):\n",
        "      print(row)"
      ],
      "metadata": {
        "id": "CbA1Ftv7My52"
      },
      "execution_count": null,
      "outputs": []
    },
    {
      "cell_type": "code",
      "source": [
        "#Remove linhas com zero na coluna m2\n",
        "df = df[df['m2'] != 0]\n",
        "\n",
        "#Normaliza longitude e latitude\n",
        "scaler = MinMaxScaler(feature_range=(0, 1))\n",
        "df['Longitude'] = scaler.fit_transform(df[['Longitude']])\n",
        "df['Latitude'] = scaler.fit_transform(df[['Latitude']])\n",
        "\n",
        "#Separa os dataframes de acordo com o tipo de locação\n",
        "apartamento_cobertura_df = df[((df['Tipo'] == 'Apartamento') | (df['Tipo'] == 'Cobertura')) & ((df['Quartos'] != 0) & (df['Banheiros'] != 0))]\n",
        "studio_kitnet_df = df[((df['Tipo'] == 'Studio') | (df['Tipo'] == 'Kitnet')) & (df['Quartos'] <= 1) & (df['Banheiros'] != 0)]\n",
        "studio_kitnet_mais_de_um_quarto_df = df[((df['Tipo'] == 'Studio') | (df['Tipo'] == 'Kitnet')) & ((df['Quartos'] > 1 & ((df['Banheiros'] != 0))))]\n",
        "galpao_df = df[df['Tipo'] == 'Galpão']\n",
        "casa_df = df[(df['Tipo'] == 'Casa')  & ((df['Quartos'] != 0) & (df['Banheiros'] != 0))]\n",
        "loja_df = df[df['Tipo'] == 'Loja']\n",
        "sala_df = df[df['Tipo'] == 'Sala']\n",
        "#cobertura_df = df[df['Tipo'] == 'Cobertura']\n",
        "#kitnet_df = df[df['Tipo'] == 'Kitnet']"
      ],
      "metadata": {
        "id": "3tnT9QRXx0G0"
      },
      "execution_count": null,
      "outputs": []
    },
    {
      "cell_type": "markdown",
      "source": [
        "Analise de semelhança entre studios e kitnets com mais de um quarto e apartamentos"
      ],
      "metadata": {
        "id": "iooJVGJqE0pr"
      }
    },
    {
      "cell_type": "code",
      "source": [
        "apartamento_cobertura_df.describe()"
      ],
      "metadata": {
        "id": "9mdHXGxnErpN"
      },
      "execution_count": null,
      "outputs": []
    },
    {
      "cell_type": "code",
      "source": [
        "studio_kitnet_df.describe()"
      ],
      "metadata": {
        "id": "TmryTxPTEumM"
      },
      "execution_count": null,
      "outputs": []
    },
    {
      "cell_type": "code",
      "source": [
        "studio_kitnet_mais_de_um_quarto_df.describe()"
      ],
      "metadata": {
        "id": "tV0pY_A7ExZ6"
      },
      "execution_count": null,
      "outputs": []
    },
    {
      "cell_type": "code",
      "source": [
        "#Junção de apartamentos com kinet e studios com mais de um quarto -> semelhança encontrada\n",
        "apartamento_cobertura_kitnet_df = pd.concat([apartamento_cobertura_df, studio_kitnet_mais_de_um_quarto_df])"
      ],
      "metadata": {
        "id": "4OvBSX4sFIs_"
      },
      "execution_count": null,
      "outputs": []
    },
    {
      "cell_type": "code",
      "source": [
        "#Plotagem para comparação\n",
        "apartamento_cobertura_df['Preço'].plot(kind='hist', title=\"Apartamento e Cobertura\")\n",
        "plt.show()\n",
        "apartamento_cobertura_kitnet_df['Preço'].plot(kind='hist', title=\"Apartamento, Cobertura e Kitnet\")\n",
        "plt.show()\n",
        "studio_kitnet_df['Preço'].plot(kind='hist', title=\"Studio e Kitnet\")\n",
        "plt.show()\n",
        "galpao_df['Preço'].plot(kind='hist', title=\"Galpão\")\n",
        "plt.show()\n",
        "casa_df['Preço'].plot(kind='hist', title=\"Casa\")\n",
        "plt.show()\n",
        "loja_df['Preço'].plot(kind='hist', title=\"Loja\")\n",
        "plt.show()\n",
        "sala_df['Preço'].plot(kind='hist', title=\"Sala\")"
      ],
      "metadata": {
        "id": "wY6sLswc6d1v"
      },
      "execution_count": null,
      "outputs": []
    },
    {
      "cell_type": "code",
      "source": [
        "#Plotagem para comparação\n",
        "apartamento_cobertura_df.boxplot(column=['Preço'])\n",
        "plt.show()\n",
        "apartamento_cobertura_kitnet_df.boxplot(column=['Preço'])\n",
        "plt.show()\n",
        "studio_kitnet_df.boxplot(column=['Preço'])\n",
        "plt.show()\n",
        "galpao_df.boxplot(column=['Preço'])\n",
        "plt.show()\n",
        "casa_df.boxplot(column=['Preço'])\n",
        "plt.show()\n",
        "loja_df.boxplot(column=['Preço'])\n",
        "plt.show()\n",
        "sala_df.boxplot(column=['Preço'])\n",
        "plt.show()"
      ],
      "metadata": {
        "id": "ZaBe04FsJTCR"
      },
      "execution_count": null,
      "outputs": []
    },
    {
      "cell_type": "code",
      "source": [
        "#Retira os outliers\n",
        "\"\"\"apartamento_cobertura_df.boxplot(column=['Preço'])\n",
        "plt.show()\n",
        "print(apartamento_cobertura_df.shape)\n",
        "Q1 = apartamento_cobertura_df['Preço'].quantile(0.25)\n",
        "Q3 = apartamento_cobertura_df['Preço'].quantile(0.75)\n",
        "IQR = Q3 - Q1\n",
        "\n",
        "mask = ((apartamento_cobertura_df['Preço'] < (Q1 - 1.5 * IQR)) | (apartamento_cobertura_df['Preço'] > (Q3 + 1.5 * IQR)))\n",
        "apartamento_cobertura_df[mask] = np.nan\n",
        "\n",
        "apartamento_cobertura_df = apartamento_cobertura_df.dropna()\n",
        "\n",
        "apartamento_cobertura_df.boxplot(column=['Preço'])\n",
        "plt.show()\n",
        "print(apartamento_cobertura_df.shape)\"\"\""
      ],
      "metadata": {
        "id": "i_d6bZ370kq2"
      },
      "execution_count": null,
      "outputs": []
    },
    {
      "cell_type": "markdown",
      "source": [
        "Tipos de Imóveis a serem avaliados:\n",
        "*   Apartamento\n",
        "*   Casa\n",
        "*   Studio\n",
        "*   Loja\n",
        "*   Sala\n",
        "*   Galpão\n",
        "\n",
        "**OBS:** Ainda existem dois tipos de imóveis, Cobertura (Apartamento) e Kitnet (Studio). O que será feito com eles, cabe a você decidir.\n",
        "*   Cobertura é um tipo de apartamento;\n",
        "*   Kitnet é um termo que não é mais utilizado, se assemelha a um Studio.\n",
        "\n",
        "\n",
        "\n"
      ],
      "metadata": {
        "id": "-oe_DDaC-keK"
      }
    },
    {
      "cell_type": "markdown",
      "source": [
        "## Modelo\n",
        "\n",
        "**OBS:** Todos os modelos de regressão são permitidos."
      ],
      "metadata": {
        "id": "dxWX3kyvMVRU"
      }
    },
    {
      "cell_type": "markdown",
      "source": [
        "\n",
        "**Algumas observações**\n",
        "*   '*test_size*': Distribuição em porcentagem para dados de teste;\n",
        "*   '*random_state*': Forma que os dados são separados (aleatoriedade)."
      ],
      "metadata": {
        "id": "uaVt-mUvO4wI"
      }
    },
    {
      "cell_type": "code",
      "source": [
        "# NOSSO\n",
        "# Inputs\n",
        "X = apartamento_cobertura_kitnet_df.drop(['Preço'], axis=1)\n",
        "# Outputs\n",
        "y = [i[0] for i in apartamento_cobertura_kitnet_df[['Preço']].values]\n",
        "# Dados de treino e teste\n",
        "X_train, X_test, y_train, y_test = train_test_split(X, y, test_size=0.2, random_state=32)\n",
        "\n",
        "# Remoção do Tipo de Imóvel para o código compilar (para uma boa prevista, recomenda-se utilizar esse atributo de alguma forma)\n",
        "X_train = X_train.drop(['Tipo'], axis=1)\n",
        "X_test = X_test.drop(['Tipo'], axis=1)\n",
        "\n",
        "# Modelo KNN\n",
        "model = KNeighborsRegressor(n_neighbors=2)\n",
        "model.fit(X_train, y_train)\n",
        "y_predict = model.predict(X_test)"
      ],
      "metadata": {
        "id": "iHF5Fmk26NR_"
      },
      "execution_count": null,
      "outputs": []
    },
    {
      "cell_type": "code",
      "source": [
        "def runKNN(dataframe, random_state):\n",
        "  X = dataframe.drop(['Preço'], axis=1)\n",
        "  # Outputs\n",
        "  y = [i[0] for i in dataframe[['Preço']].values]\n",
        "  # Dados de treino e teste\n",
        "  X_train, X_test, y_train, y_test = train_test_split(X, y, test_size=0.2, random_state=random_state)\n",
        "\n",
        "  # Remoção do Tipo de Imóvel para o código compilar (para uma boa prevista, recomenda-se utilizar esse atributo de alguma forma)\n",
        "  X_train = X_train.drop(['Tipo'], axis=1)\n",
        "  X_test = X_test.drop(['Tipo'], axis=1)\n",
        "\n",
        "  # Modelo KNN\n",
        "  model = KNeighborsRegressor(n_neighbors=2)\n",
        "  model.fit(X_train, y_train)\n",
        "  y_predict = model.predict(X_test)\n",
        "\n",
        "  R2 = r2_score(y_test, y_predict)\n",
        "  print(\"R2   =\", R2)\n",
        "  RMSE = math.sqrt(mean_squared_error(y_test, y_predict))\n",
        "  print(\"RMSE =\", RMSE)\n",
        "  MAPE = mean_absolute_percentage_error(y_test, y_predict)\n",
        "  print(\"MAPE =\", MAPE)\n",
        "\n",
        "#runKNN(apartamento_cobertura_kitnet_df, 16)\n",
        "#runKNN(studio_kitnet_df)\n",
        "#runKNN(galpao_df)\n",
        "#runKNN(casa_df)\n",
        "#runKNN(loja_df)\n",
        "#runKNN(sala_df)"
      ],
      "metadata": {
        "id": "dcwpwm-AQJLV"
      },
      "execution_count": null,
      "outputs": []
    },
    {
      "cell_type": "code",
      "source": [
        "def runRandomForest(dataframe):\n",
        "  X = dataframe.drop(['Preço'], axis=1)\n",
        "  # Outputs\n",
        "  y = [i[0] for i in dataframe[['Preço']].values]\n",
        "  # Dados de treino e teste\n",
        "  X_train, X_test, y_train, y_test = train_test_split(X, y, test_size=0.2, random_state=32)\n",
        "\n",
        "  # Remoção do Tipo de Imóvel para o código compilar (para uma boa prevista, recomenda-se utilizar esse atributo de alguma forma)\n",
        "  X_train = X_train.drop(['Tipo'], axis=1)\n",
        "  X_test = X_test.drop(['Tipo'], axis=1)\n",
        "\n",
        "  # Modelo Random Forest\n",
        "  model = RandomForestClassifier()\n",
        "  model.fit(X_train, y_train)\n",
        "  y_predict = model.predict(X_test)\n",
        "\n",
        "  R2 = r2_score(y_test, y_predict)\n",
        "  print(\"R2   =\", R2)\n",
        "  RMSE = math.sqrt(mean_squared_error(y_test, y_predict))\n",
        "  print(\"RMSE =\", RMSE)\n",
        "  MAPE = mean_absolute_percentage_error(y_test, y_predict)\n",
        "  print(\"MAPE =\", MAPE)\n",
        "\n",
        "\n",
        "#runRandomForest(apartamento_cobertura_kitnet_df)\n",
        "#runRandomForest(studio_kitnet_df)\n",
        "#runRandomForest(galpao_df)\n",
        "#runRandomForest(casa_df)\n",
        "#runRandomForest(loja_df)\n",
        "#runRandomForest(sala_df)"
      ],
      "metadata": {
        "id": "0RysReP36pFs"
      },
      "execution_count": null,
      "outputs": []
    },
    {
      "cell_type": "code",
      "source": [
        "\"\"\"# Definindo o modelo -> Regressão Linear Padrão\n",
        "model = LinearRegression(fit_intercept=True, copy_X=True, n_jobs=None, positive=False)\n",
        "# Treinando o modelo\n",
        "model.fit(X_train, y_train)\n",
        "# Prevendo os resultados\n",
        "y_predict = model.predict(X_test)\"\"\"\n",
        "\n",
        "\"\"\"# Modelo Random Forest\n",
        "model = RandomForestClassifier()\n",
        "model.fit(X_train, y_train)\n",
        "y_predict = model.predict(X_test)\"\"\""
      ],
      "metadata": {
        "id": "_wGas0U45ZKQ"
      },
      "execution_count": null,
      "outputs": []
    },
    {
      "cell_type": "markdown",
      "source": [
        "### Aplicação\n",
        "\n",
        "**OBS:** Modelos de regressão não conseguem prever textos (ex: Apartamento 'R$'), o que você irá fazer com esse atributo?"
      ],
      "metadata": {
        "id": "M1Lg1p9BUNPW"
      }
    },
    {
      "cell_type": "markdown",
      "source": [
        "## Métricas\n",
        "\n",
        "São obrigatórias a avaliação das seguintes métricas:\n",
        "\n",
        "\n",
        "\n",
        "*   $R^2$: Quanto mais próximo de 1, melhor o resultado\n",
        "*   RMSE: Quanto menor o valor, melhor o resultado\n",
        "*   MAPE: Quanto mais próximo de 0, melhor o resultado\n",
        "\n",
        "**OBS:** Mais métricas para análise podem ser utilizadas."
      ],
      "metadata": {
        "id": "0LJbKIMZ8yfR"
      }
    },
    {
      "cell_type": "code",
      "source": [
        "R2 = r2_score(y_test, y_predict)\n",
        "print(\"R2   =\", R2)\n",
        "RMSE = math.sqrt(mean_squared_error(y_test, y_predict))\n",
        "print(\"RMSE =\", RMSE)\n",
        "MAPE = mean_absolute_percentage_error(y_test, y_predict)\n",
        "print(\"MAPE =\", MAPE)"
      ],
      "metadata": {
        "id": "jfF_Pl2IKWN3",
        "colab": {
          "base_uri": "https://localhost:8080/"
        },
        "outputId": "61823bb6-0793-4712-818e-bd6eec1d9809"
      },
      "execution_count": null,
      "outputs": [
        {
          "output_type": "stream",
          "name": "stdout",
          "text": [
            "R2   = 0.7947594908857658\n",
            "RMSE = 673.0399292973423\n",
            "MAPE = 0.2249444193595549\n"
          ]
        }
      ]
    },
    {
      "cell_type": "markdown",
      "source": [
        "## Teste Online\n",
        "\n",
        "**OBS:** Pode mudar essa parte de acordo com as suas necessidades."
      ],
      "metadata": {
        "id": "dpj5XWFF82iS"
      }
    },
    {
      "cell_type": "code",
      "execution_count": null,
      "metadata": {
        "id": "h7A2HZPc8Gz4"
      },
      "outputs": [],
      "source": [
        "# Imputando os dados\n",
        "ty = input(\"Tipo do Imóvel: \")\n",
        "m_2 = int(input(\"Metros quadrados: \"))\n",
        "n_q = int(input(\"Número de quartos: \"))\n",
        "n_b = int(input(\"Número de banheiros: \"))\n",
        "n_vg = int(input(\"Número de vagas de garagem: \"))\n",
        "cond = float(input(\"Preço do Condomínio: \"))\n",
        "iptu = float(input(\"Preço do IPTU: \"))\n",
        "bairro = input(\"Bairro (texto): \")\n",
        "# Transformando o bairro em texto para Lat, Lon\n",
        "geolocator = Nominatim(user_agent=\"geolocalização\")\n",
        "location = geolocator.geocode(bairro + ', Juiz de Fora - MG')\n",
        "lat = location.latitude; lon = location.longitude\n",
        "\n",
        "# Colocando os dados em um Dataframe\n",
        "col_online = ['m2', 'Quartos', 'Banheiros', 'Vagas', 'Condomínio', 'IPTU',\t'Latitude', 'Longitude']\n",
        "X_online = [m_2, n_q, n_b, n_vg, cond, iptu, lat, lon]\n",
        "X_online = pd.DataFrame([X_online], columns = col_online)\n",
        "\n",
        "# Prevendo o valor do preço do imóvel\n",
        "y_online = model.predict(X_online) #OBS: Colocar o nome do seu modelo treinado\n",
        "\n",
        "# Resultado\n",
        "print(f\"Preço do imóvel previsto:{y_online}\")"
      ]
    }
  ]
}